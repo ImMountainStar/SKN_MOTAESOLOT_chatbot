{
 "cells": [
  {
   "cell_type": "markdown",
   "id": "83fb2eb7",
   "metadata": {},
   "source": [
    "# 모태솔로를 위한 소개팅 연습 봇"
   ]
  },
  {
   "cell_type": "markdown",
   "id": "b54b03cc",
   "metadata": {
    "vscode": {
     "languageId": "plaintext"
    }
   },
   "source": [
    "### 라이브러리 임포트"
   ]
  },
  {
   "cell_type": "code",
   "execution_count": 27,
   "id": "06a3cb8c",
   "metadata": {},
   "outputs": [],
   "source": [
    "from dotenv import load_dotenv\n",
    "from openai import OpenAI\n",
    "import speech_recognition as sr\n",
    "from pydub import AudioSegment\n",
    "from pydub.playback import play\n",
    "import io, json, os, time\n",
    "import tempfile, subprocess #맥 afplay 사용"
   ]
  },
  {
   "cell_type": "code",
   "execution_count": 28,
   "id": "5b30f6b4",
   "metadata": {},
   "outputs": [],
   "source": [
    "#!pip install pydub"
   ]
  },
  {
   "cell_type": "code",
   "execution_count": 29,
   "id": "5ac33869",
   "metadata": {},
   "outputs": [],
   "source": [
    "#!pip install SpeechRecognition"
   ]
  },
  {
   "cell_type": "code",
   "execution_count": 30,
   "id": "500abe5c",
   "metadata": {},
   "outputs": [],
   "source": [
    "#!pip install openai"
   ]
  },
  {
   "cell_type": "code",
   "execution_count": 31,
   "id": "790b1386",
   "metadata": {},
   "outputs": [],
   "source": [
    "#!brew install portaudio"
   ]
  },
  {
   "cell_type": "markdown",
   "id": "3a0566f9",
   "metadata": {},
   "source": [
    "### 1. open API 로드"
   ]
  },
  {
   "cell_type": "code",
   "execution_count": 32,
   "id": "73e537b4",
   "metadata": {},
   "outputs": [],
   "source": [
    "load_dotenv()\n",
    "client = OpenAI()"
   ]
  },
  {
   "cell_type": "markdown",
   "id": "c0297dc7",
   "metadata": {},
   "source": [
    "______________"
   ]
  },
  {
   "cell_type": "markdown",
   "id": "2c4d0828",
   "metadata": {},
   "source": [
    "### 2. STT (음성 -> 텍스트 변환 함수)"
   ]
  },
  {
   "cell_type": "code",
   "execution_count": null,
   "id": "7e0c9480",
   "metadata": {},
   "outputs": [],
   "source": [
    "def stt(language: str = \"ko-KR\"):\n",
    "    recognizer = sr.Recognizer()\n",
    "    print(\" STT 시작 (종료: '종료')\")\n",
    "\n",
    "    with sr.Microphone() as source:\n",
    "        print(\"🎙 주변 소음 보정 중...\")\n",
    "        recognizer.adjust_for_ambient_noise(source, duration=0.5)\n",
    "        print(\"준비 완료! '남자' 또는 '여자'로 시작해도 되고, '종료'라고 말하면 끝납니다.\")\n",
    "\n",
    "        while True:\n",
    "            print(\"\\n말씀하세요...\")\n",
    "            audio = recognizer.listen(source)  # 녹음\n",
    "\n",
    "            # 인식 실패는 그냥 넘어가고 계속\n",
    "            try:\n",
    "                txt = recognizer.recognize_google(audio, language=language)\n",
    "            except:\n",
    "                continue\n",
    "\n",
    "            print(f\" 입력 내용 : {txt}\")\n",
    "\n",
    "            if txt == \"종료\":\n",
    "                print(\"============================빠이염========================\")\n",
    "                break\n",
    "            \n",
    "            global user_gender, chatbot_voice\n",
    "            if user_gender is None:\n",
    "                if txt.strip() == \"남자\":\n",
    "                    user_gender = \"남자\"      # 사용자 성별\n",
    "                    # 사용자=남자 → 상대는 여자(옥순) → 챗봇은 '남자 목소리'\n",
    "                    chatbot_voice = \"alloy\"  \n",
    "                elif txt.strip() == \"여자\":\n",
    "                    user_gender = \"여자\"\n",
    "                    chatbot_voice = \"nova\"    \n",
    "\n",
    "            \n",
    "            messages.append({\"role\": \"user\", \"content\": txt})\n",
    "\n",
    "            \n",
    "            gpt_json = client.chat.completions.create(\n",
    "                model=\"gpt-4o-mini\",\n",
    "                messages=messages,\n",
    "                temperature=0.7,\n",
    "                max_tokens=512\n",
    "            ).choices[0].message.content\n",
    "\n",
    "            # 상대방 대사만 추출 → 출력/재생\n",
    "            partner_line = extract_partner_reply(gpt_json)\n",
    "            print(\"상대방:\", partner_line)\n",
    "            tts_play(partner_line, voice=chatbot_voice)\n",
    "\n",
    "\n",
    "            messages.append({\"role\": \"assistant\", \"content\": gpt_json})"
   ]
  },
  {
   "cell_type": "markdown",
   "id": "638c016f",
   "metadata": {},
   "source": [
    "### 3. TTS(텍스트 -> 음성변환 함수)"
   ]
  },
  {
   "cell_type": "code",
   "execution_count": 34,
   "id": "31c1f197",
   "metadata": {},
   "outputs": [],
   "source": [
    "def play_wav_bytes(wav_bytes: bytes):\n",
    "    audio = AudioSegment.from_file(io.BytesIO(wav_bytes), format=\"wav\")\n",
    "    play(audio)"
   ]
  },
  {
   "cell_type": "code",
   "execution_count": 35,
   "id": "ace12b41",
   "metadata": {},
   "outputs": [],
   "source": [
    "def tts_play(text: str, voice: str = \"nova\"):\n",
    "    with client.audio.speech.with_streaming_response.create(\n",
    "        model=\"tts-1\",\n",
    "        voice=voice,\n",
    "        input=text\n",
    "    ) as resp:\n",
    "        mp3_bytes = b\"\".join(resp.iter_bytes())\n",
    "\n",
    "    f = tempfile.NamedTemporaryFile(suffix=\".mp3\", delete=False)\n",
    "    f.write(mp3_bytes)\n",
    "    f.flush(); f.close()\n",
    "    subprocess.run([\"afplay\", f.name])   # macOS 기본 오디오 플레이어\n",
    "    os.remove(f.name)"
   ]
  },
  {
   "cell_type": "code",
   "execution_count": 36,
   "id": "836e5bae",
   "metadata": {},
   "outputs": [],
   "source": [
    "#tts_play(\"안녕하세요, 이 테스트 음성이 잘 들리면 afplay 성공!\", voice=\"nova\")"
   ]
  },
  {
   "cell_type": "markdown",
   "id": "5bdae6e0",
   "metadata": {},
   "source": [
    "### 4. 프롬포트 "
   ]
  },
  {
   "cell_type": "code",
   "execution_count": null,
   "id": "2f18641a",
   "metadata": {},
   "outputs": [],
   "source": [
    "def extract_partner_reply(json_text: str) -> str:\n",
    "    data = json.loads(json_text)  \n",
    "    lst = data[\"json_list\"]\n",
    "    last = lst[-1]\n",
    "\n",
    "    # '상대방' -> '옥순' -> '상철' 순서로 찾기\n",
    "    for key in (\"상대방\", \"옥순\", \"상철\"):\n",
    "        if key in last:\n",
    "            return str(last[key]).strip()\n",
    "\n",
    "    # 마지막 턴에 없으면 역순으로 탐색\n",
    "    for turn in reversed(lst):\n",
    "        for key in (\"상대방\", \"옥순\", \"상철\"):\n",
    "            if key in turn:\n",
    "                return str(turn[key]).strip()\n",
    "\n",
    "    # 못 찾으면 원문 반환\n",
    "    return json_text.strip()"
   ]
  },
  {
   "cell_type": "code",
   "execution_count": null,
   "id": "6931e85e",
   "metadata": {},
   "outputs": [],
   "source": [
    "system_prompt = \"\"\"\n",
    "너는 모태솔로의 소개팅 연습을 도와주는 가상의 소개팅 상대방이다.\n",
    "이성과 대화한 경험이 적고, 이성과 대화를 수줍어하는 모태솔로를 위해 소개팅연습을 해준다.\n",
    "\n",
    "[역할/캐릭터 규칙]\n",
    "1) 대화 시작에 사용자에게 성별 선택지를 제시한다: \"남자 / 여자\".\n",
    "2) 모든 대화는 정중한 존댓말로 한다. \n",
    "2) 사용자가 \"남자\"를 선택하면, 너는 여자 '옥순'으로 설정하고 애교 있는 말투로 말한다.\n",
    "   예시) 아잉, 좋앙? , 했또, 띠드버거 같은 애교있는 말투 \n",
    "3) 사용자가 \"여자\"를 선택하면, 너는 남자 '상철'로 설정하고 듬직하게 리드하는 말투로 말한다.\n",
    "4) 처음에는 간단한 인사만 한다.\n",
    "5) 이후, 본격적으로 질문을 시작한다. 질문 순서: (1) 나이/사는 곳 → (2) 취미 → (3) 연애 스타일 → (4) 자유 대화. \n",
    "6) 질문 순서별로 대화를 넘어갈때는 자연스럽게 넘어간다. 필요하다면 말을 한번 더 할수도 있다.\n",
    "   매 턴마다: 짧은 리액션 + 다음 질문 1개만.\n",
    "7) 중간에, 사용자가 넌센스 개그또는 아재개그를 하면 부정적인 반응(실망스러운) 리액션을 한다. \n",
    "8) 총 5~6턴 후 마무리하고, 마지막에 피드백을 제공한다:\n",
    "   - 장점, 개선점, 자연스러움 점수(10점 만점)\n",
    "   - 추천 에프터 멘트 1개\n",
    "\n",
    "[출력 형식]\n",
    "- 반드시 순수 JSON만 반환한다(설명/코드블록 금지). 최상위에 \"json_list\" 키만 존재해야 한다.\n",
    "- \"json_list\" 하위에는 대화 턴별 객체들이 순서대로 포함된다.\n",
    "- 각 객체는 \"User\"와 \"상대방\" 두 개의 키를 가지며,\n",
    "  \"상대방\" 키 값은 실제 캐릭터 이름(옥순 또는 상철)으로 바꿔 사용해도 된다.\n",
    "  (예: \"옥순\": \"...\" 또는 \"상철\": \"...\")\n",
    "- 대화 5번이 끝나면, 피드백을 알려준다. \n",
    "\"\"\"\n",
    "\n",
    "messages = [{\"role\": \"system\", \"content\": system_prompt}]\n",
    "\n",
    "user_gender = None           # 사용자가 말한 성별: \"남자\" 또는 \"여자\"\n",
    "chatbot_voice = \"alloy\"      # 기본값(남자톤)"
   ]
  },
  {
   "cell_type": "markdown",
   "id": "2a755496",
   "metadata": {},
   "source": [
    "### 5. 실행"
   ]
  },
  {
   "cell_type": "markdown",
   "id": "9af70560",
   "metadata": {},
   "source": [
    "마이크 입력 (stt) → GPT(JSON) → extract_partner_reply → TTS 변환/재생"
   ]
  },
  {
   "cell_type": "raw",
   "id": "b8d1e1ac",
   "metadata": {
    "vscode": {
     "languageId": "raw"
    }
   },
   "source": [
    "# 테스트\n",
    "test_input = \"남자\"  # '여자'로 바꿔봐도 됨\n",
    "messages.append({\"role\": \"user\", \"content\": test_input})\n",
    "\n",
    "gpt_json = client.chat.completions.create(\n",
    "    model=\"gpt-4o-mini\",\n",
    "    messages=messages,\n",
    "    temperature=0.7,\n",
    "    max_tokens=512,\n",
    "    response_format={\"type\": \"json_object\"}  # ★ JSON만 반환하도록 강제\n",
    ").choices[0].message.content\n",
    "\n",
    "partner_line = extract_partner_reply(gpt_json)\n",
    "print(\"\\n=== 상대방 대사 ===\\n\", partner_line)\n",
    "tts_play(partner_line, voice=\"nova\")\n",
    "\n",
    "messages.append({\"role\": \"assistant\", \"content\": gpt_json})"
   ]
  },
  {
   "cell_type": "markdown",
   "id": "bbfa513b",
   "metadata": {},
   "source": []
  }
 ],
 "metadata": {
  "kernelspec": {
   "display_name": "npl_env",
   "language": "python",
   "name": "python3"
  },
  "language_info": {
   "codemirror_mode": {
    "name": "ipython",
    "version": 3
   },
   "file_extension": ".py",
   "mimetype": "text/x-python",
   "name": "python",
   "nbconvert_exporter": "python",
   "pygments_lexer": "ipython3",
   "version": "3.12.11"
  }
 },
 "nbformat": 4,
 "nbformat_minor": 5
}
